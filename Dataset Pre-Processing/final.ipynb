{
 "cells": [
  {
   "cell_type": "markdown",
   "metadata": {},
   "source": [
    "# Dataset \n",
    "This is a part of the dataset, the whole dataset could not be included as it would make the submission file too heavy"
   ]
  },
  {
   "cell_type": "code",
   "execution_count": 1,
   "metadata": {},
   "outputs": [],
   "source": [
    "import pandas as pd\n",
    "import csv"
   ]
  },
  {
   "cell_type": "code",
   "execution_count": 2,
   "metadata": {},
   "outputs": [],
   "source": [
    "df = pd.read_parquet('2.parquet')"
   ]
  },
  {
   "cell_type": "code",
   "execution_count": 3,
   "metadata": {},
   "outputs": [
    {
     "data": {
      "text/html": [
       "<div>\n",
       "<style scoped>\n",
       "    .dataframe tbody tr th:only-of-type {\n",
       "        vertical-align: middle;\n",
       "    }\n",
       "\n",
       "    .dataframe tbody tr th {\n",
       "        vertical-align: top;\n",
       "    }\n",
       "\n",
       "    .dataframe thead th {\n",
       "        text-align: right;\n",
       "    }\n",
       "</style>\n",
       "<table border=\"1\" class=\"dataframe\">\n",
       "  <thead>\n",
       "    <tr style=\"text-align: right;\">\n",
       "      <th></th>\n",
       "      <th>id</th>\n",
       "      <th>image</th>\n",
       "      <th>title</th>\n",
       "      <th>genres</th>\n",
       "      <th>overview</th>\n",
       "      <th>popularity</th>\n",
       "      <th>release_date</th>\n",
       "      <th>budget</th>\n",
       "      <th>revenue</th>\n",
       "      <th>tagline</th>\n",
       "      <th>original_language</th>\n",
       "      <th>runtime</th>\n",
       "    </tr>\n",
       "  </thead>\n",
       "  <tbody>\n",
       "    <tr>\n",
       "      <th>0</th>\n",
       "      <td>36557</td>\n",
       "      <td>{'bytes': b'\\x89PNG\\r\\n\\x1a\\n\\x00\\x00\\x00\\rIHD...</td>\n",
       "      <td>Casino Royale</td>\n",
       "      <td>[{'id': 12, 'name': 'Adventure'}, {'id': 28, '...</td>\n",
       "      <td>Le Chiffre, a banker to the world's terrorists...</td>\n",
       "      <td>36.512</td>\n",
       "      <td>2006-11-14</td>\n",
       "      <td>150000000</td>\n",
       "      <td>599045960</td>\n",
       "      <td>Everyone has a past. Every legend has a beginn...</td>\n",
       "      <td>en</td>\n",
       "      <td>144</td>\n",
       "    </tr>\n",
       "    <tr>\n",
       "      <th>1</th>\n",
       "      <td>11187</td>\n",
       "      <td>{'bytes': b'\\x89PNG\\r\\n\\x1a\\n\\x00\\x00\\x00\\rIHD...</td>\n",
       "      <td>Child's Play 3</td>\n",
       "      <td>[{'id': 27, 'name': 'Horror'}, {'id': 53, 'nam...</td>\n",
       "      <td>Eight years have passed since the events of th...</td>\n",
       "      <td>36.484</td>\n",
       "      <td>1991-08-30</td>\n",
       "      <td>13000000</td>\n",
       "      <td>20560255</td>\n",
       "      <td>There comes a time to put away childhood thing...</td>\n",
       "      <td>en</td>\n",
       "      <td>90</td>\n",
       "    </tr>\n",
       "    <tr>\n",
       "      <th>2</th>\n",
       "      <td>316029</td>\n",
       "      <td>{'bytes': b'\\x89PNG\\r\\n\\x1a\\n\\x00\\x00\\x00\\rIHD...</td>\n",
       "      <td>The Greatest Showman</td>\n",
       "      <td>[{'id': 18, 'name': 'Drama'}]</td>\n",
       "      <td>The story of American showman P.T. Barnum, fou...</td>\n",
       "      <td>36.483</td>\n",
       "      <td>2017-12-20</td>\n",
       "      <td>84000000</td>\n",
       "      <td>432844677</td>\n",
       "      <td>The impossible comes true.</td>\n",
       "      <td>en</td>\n",
       "      <td>105</td>\n",
       "    </tr>\n",
       "    <tr>\n",
       "      <th>3</th>\n",
       "      <td>808396</td>\n",
       "      <td>{'bytes': b'\\x89PNG\\r\\n\\x1a\\n\\x00\\x00\\x00\\rIHD...</td>\n",
       "      <td>God Is a Bullet</td>\n",
       "      <td>[{'id': 28, 'name': 'Action'}, {'id': 80, 'nam...</td>\n",
       "      <td>Based on true events and the novel of the same...</td>\n",
       "      <td>36.460</td>\n",
       "      <td>2023-06-22</td>\n",
       "      <td>0</td>\n",
       "      <td>0</td>\n",
       "      <td>Say your prayers.</td>\n",
       "      <td>en</td>\n",
       "      <td>155</td>\n",
       "    </tr>\n",
       "    <tr>\n",
       "      <th>4</th>\n",
       "      <td>1036350</td>\n",
       "      <td>{'bytes': b'\\x89PNG\\r\\n\\x1a\\n\\x00\\x00\\x00\\rIHD...</td>\n",
       "      <td>An Amish Sin</td>\n",
       "      <td>[{'id': 18, 'name': 'Drama'}]</td>\n",
       "      <td>Rachel is an Amish teen who refuses to obey he...</td>\n",
       "      <td>36.400</td>\n",
       "      <td>2022-10-29</td>\n",
       "      <td>0</td>\n",
       "      <td>0</td>\n",
       "      <td></td>\n",
       "      <td>en</td>\n",
       "      <td>85</td>\n",
       "    </tr>\n",
       "  </tbody>\n",
       "</table>\n",
       "</div>"
      ],
      "text/plain": [
       "        id                                              image  \\\n",
       "0    36557  {'bytes': b'\\x89PNG\\r\\n\\x1a\\n\\x00\\x00\\x00\\rIHD...   \n",
       "1    11187  {'bytes': b'\\x89PNG\\r\\n\\x1a\\n\\x00\\x00\\x00\\rIHD...   \n",
       "2   316029  {'bytes': b'\\x89PNG\\r\\n\\x1a\\n\\x00\\x00\\x00\\rIHD...   \n",
       "3   808396  {'bytes': b'\\x89PNG\\r\\n\\x1a\\n\\x00\\x00\\x00\\rIHD...   \n",
       "4  1036350  {'bytes': b'\\x89PNG\\r\\n\\x1a\\n\\x00\\x00\\x00\\rIHD...   \n",
       "\n",
       "                  title                                             genres  \\\n",
       "0         Casino Royale  [{'id': 12, 'name': 'Adventure'}, {'id': 28, '...   \n",
       "1        Child's Play 3  [{'id': 27, 'name': 'Horror'}, {'id': 53, 'nam...   \n",
       "2  The Greatest Showman                      [{'id': 18, 'name': 'Drama'}]   \n",
       "3       God Is a Bullet  [{'id': 28, 'name': 'Action'}, {'id': 80, 'nam...   \n",
       "4          An Amish Sin                      [{'id': 18, 'name': 'Drama'}]   \n",
       "\n",
       "                                            overview  popularity release_date  \\\n",
       "0  Le Chiffre, a banker to the world's terrorists...      36.512   2006-11-14   \n",
       "1  Eight years have passed since the events of th...      36.484   1991-08-30   \n",
       "2  The story of American showman P.T. Barnum, fou...      36.483   2017-12-20   \n",
       "3  Based on true events and the novel of the same...      36.460   2023-06-22   \n",
       "4  Rachel is an Amish teen who refuses to obey he...      36.400   2022-10-29   \n",
       "\n",
       "      budget    revenue                                            tagline  \\\n",
       "0  150000000  599045960  Everyone has a past. Every legend has a beginn...   \n",
       "1   13000000   20560255  There comes a time to put away childhood thing...   \n",
       "2   84000000  432844677                         The impossible comes true.   \n",
       "3          0          0                                  Say your prayers.   \n",
       "4          0          0                                                      \n",
       "\n",
       "  original_language  runtime  \n",
       "0                en      144  \n",
       "1                en       90  \n",
       "2                en      105  \n",
       "3                en      155  \n",
       "4                en       85  "
      ]
     },
     "execution_count": 3,
     "metadata": {},
     "output_type": "execute_result"
    }
   ],
   "source": [
    "df.head()"
   ]
  },
  {
   "cell_type": "code",
   "execution_count": 5,
   "metadata": {},
   "outputs": [
    {
     "data": {
      "image/png": "[encoded data removed]",
      "text/plain": [
       "<Figure size 1000x600 with 1 Axes>"
      ]
     },
     "metadata": {},
     "output_type": "display_data"
    }
   ],
   "source": [
    "import matplotlib.pyplot as plt\n",
    "import pandas as pd\n",
    "\n",
    "# Read data from CSV\n",
    "df = pd.read_csv(\"final.csv\")  # Replace 'your_file.csv' with the actual file name\n",
    "\n",
    "# Plot\n",
    "plt.figure(figsize=(10, 6))\n",
    "plt.bar(df[\"Word\"], df[\"Count\"], color=\"skyblue\")\n",
    "plt.title(\"Category Counts\", fontsize=16)\n",
    "plt.xlabel(\"Category\", fontsize=12)\n",
    "plt.ylabel(\"\")  # Hides the y-axis label\n",
    "plt.xticks(fontsize=10)\n",
    "plt.yticks([])  # Hides the y-axis ticks\n",
    "plt.grid(axis='y', linestyle='--', alpha=0.5)\n",
    "\n",
    "# Show plot\n",
    "plt.tight_layout()\n",
    "plt.show()\n"
   ]
  },
  {
   "cell_type": "code",
   "execution_count": null,
   "metadata": {},
   "outputs": [],
   "source": []
  }
 ],
 "metadata": {
  "kernelspec": {
   "display_name": "Python 3",
   "language": "python",
   "name": "python3"
  },
  "language_info": {
   "codemirror_mode": {
    "name": "ipython",
    "version": 3
   },
   "file_extension": ".py",
   "mimetype": "text/x-python",
   "name": "python",
   "nbconvert_exporter": "python",
   "pygments_lexer": "ipython3",
   "version": "3.12.4"
  }
 },
 "nbformat": 4,
 "nbformat_minor": 2
}
